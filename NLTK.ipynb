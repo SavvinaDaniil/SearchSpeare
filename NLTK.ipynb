{
 "cells": [
  {
   "cell_type": "code",
   "execution_count": 1,
   "metadata": {},
   "outputs": [],
   "source": [
    "import json\n",
    "import nltk\n",
    "import re\n",
    "from nltk.tokenize import RegexpTokenizer\n",
    "import os\n",
    "from nltk.corpus import stopwords \n",
    "from nltk.stem.wordnet import WordNetLemmatizer\n",
    "import string"
   ]
  },
  {
   "cell_type": "code",
   "execution_count": 2,
   "metadata": {},
   "outputs": [],
   "source": [
    "from nltk.tokenize import word_tokenize\n",
    "from nltk.stem.porter import PorterStemmer\n"
   ]
  },
  {
   "cell_type": "code",
   "execution_count": 5,
   "metadata": {},
   "outputs": [],
   "source": [
    "with open('poetsorg_clean.json', 'r') as fp:\n",
    "    poetsorg = json.load(fp)"
   ]
  },
  {
   "cell_type": "code",
   "execution_count": 4,
   "metadata": {},
   "outputs": [
    {
     "data": {
      "text/plain": [
       "32422"
      ]
     },
     "execution_count": 4,
     "metadata": {},
     "output_type": "execute_result"
    }
   ],
   "source": [
    "len(famouspoets)"
   ]
  },
  {
   "cell_type": "code",
   "execution_count": 6,
   "metadata": {},
   "outputs": [
    {
     "data": {
      "text/plain": [
       "9650"
      ]
     },
     "execution_count": 6,
     "metadata": {},
     "output_type": "execute_result"
    }
   ],
   "source": [
    "len(poetsorg)"
   ]
  },
  {
   "cell_type": "code",
   "execution_count": 59,
   "metadata": {},
   "outputs": [],
   "source": [
    "famouspoets[:] = [d for d in famouspoets if d.get('text') != '']"
   ]
  },
  {
   "cell_type": "code",
   "execution_count": 23,
   "metadata": {},
   "outputs": [],
   "source": [
    "stop = set(stopwords.words('english'))\n",
    "exclude = set(string.punctuation) \n",
    "lemma = WordNetLemmatizer()\n",
    "def clean(doc):\n",
    "    tokens=word_tokenize(doc)\n",
    "    tokens = [w.lower() for w in tokens]\n",
    "    punc_free = [ch for ch in tokens if ch not in exclude]\n",
    "    words = [word for word in punc_free if word.isalpha()]\n",
    "    stop_free = [i for i in words if i not in stop]\n",
    "    porter = PorterStemmer()\n",
    "    stemmed = [porter.stem(word) for word in stop_free]\n",
    "    #normalized = \" \".join(lemma.lemmatize(word) for word in punc_free.split())\n",
    "    return stemmed"
   ]
  },
  {
   "cell_type": "code",
   "execution_count": 62,
   "metadata": {},
   "outputs": [],
   "source": [
    "for i in range(len(famouspoets)):\n",
    "    famouspoets_clean[i]['text']=clean(famouspoets[i]['text'])"
   ]
  },
  {
   "cell_type": "code",
   "execution_count": 61,
   "metadata": {},
   "outputs": [],
   "source": [
    "famouspoets_clean=famouspoets[:]"
   ]
  },
  {
   "cell_type": "code",
   "execution_count": 65,
   "metadata": {},
   "outputs": [
    {
     "data": {
      "text/plain": [
       "{'url': 'http://famouspoetsandpoems.com/poets/alan_seeger/poems/239',\n",
       " 'title': 'Sonnet IV',\n",
       " 'author': 'Alan Seeger',\n",
       " 'text': ['attic',\n",
       "  'sill',\n",
       "  'south',\n",
       "  'wind',\n",
       "  'came',\n",
       "  'day',\n",
       "  'sun',\n",
       "  'storm',\n",
       "  'never',\n",
       "  'peac',\n",
       "  'along',\n",
       "  'town',\n",
       "  'tumultu',\n",
       "  'arteri',\n",
       "  'heard',\n",
       "  'sentient',\n",
       "  'frame',\n",
       "  'night',\n",
       "  'whistl',\n",
       "  'bay',\n",
       "  'whirl',\n",
       "  'incess',\n",
       "  'wheel',\n",
       "  'clang',\n",
       "  'car',\n",
       "  'smoke',\n",
       "  'half',\n",
       "  'obscur',\n",
       "  'circl',\n",
       "  'star',\n",
       "  'burnt',\n",
       "  'like',\n",
       "  'youth',\n",
       "  'sickli',\n",
       "  'flame',\n",
       "  'attic',\n",
       "  'came',\n",
       "  'citi',\n",
       "  'cri',\n",
       "  'throe',\n",
       "  'iron',\n",
       "  'sinew',\n",
       "  'heav',\n",
       "  'yet',\n",
       "  'forev',\n",
       "  'behind',\n",
       "  'prison',\n",
       "  'door',\n",
       "  'well',\n",
       "  'heart',\n",
       "  'trembl',\n",
       "  'eye',\n",
       "  'light',\n",
       "  'hang',\n",
       "  'desert',\n",
       "  'hill',\n",
       "  'eve',\n",
       "  'tint',\n",
       "  'sea',\n",
       "  'solitari',\n",
       "  'shore']}"
      ]
     },
     "execution_count": 65,
     "metadata": {},
     "output_type": "execute_result"
    }
   ],
   "source": [
    "famouspoets_clean[100]"
   ]
  },
  {
   "cell_type": "code",
   "execution_count": 64,
   "metadata": {},
   "outputs": [
    {
     "data": {
      "text/plain": [
       "{'url': 'http://famouspoetsandpoems.com/poets/alan_seeger/poems/239',\n",
       " 'title': 'Sonnet IV',\n",
       " 'author': 'Alan Seeger',\n",
       " 'text': \"Up at his attic sill the South wind came \\r\\nAnd days of sun and storm but never peace. \\r\\nAlong the town's tumultuous arteries \\r\\nHe heard the heart-throbs of a sentient frame: \\r\\nEach night the whistles in the bay, the same \\r\\nWhirl of incessant wheels and clanging cars: \\r\\nFor smoke that half obscured, the circling stars \\r\\nBurnt like his youth with but a sickly flame. \\r\\nUp to his attic came the city cries -- \\r\\nThe throes with which her iron sinews heave -- \\r\\nAnd yet forever behind prison doors \\r\\nWelled in his heart and trembled in his eyes \\r\\nThe light that hangs on desert hills at eve \\r\\nAnd tints the sea on solitary shores. . . .\"}"
      ]
     },
     "execution_count": 64,
     "metadata": {},
     "output_type": "execute_result"
    }
   ],
   "source": [
    "famouspoets[100]"
   ]
  },
  {
   "cell_type": "code",
   "execution_count": 66,
   "metadata": {},
   "outputs": [],
   "source": [
    "with open('famouspoets_clean.json', 'w') as fp:\n",
    "    json.dump(famouspoets_clean, fp)"
   ]
  },
  {
   "cell_type": "code",
   "execution_count": null,
   "metadata": {},
   "outputs": [],
   "source": []
  }
 ],
 "metadata": {
  "kernelspec": {
   "display_name": "Python 3",
   "language": "python",
   "name": "python3"
  },
  "language_info": {
   "codemirror_mode": {
    "name": "ipython",
    "version": 3
   },
   "file_extension": ".py",
   "mimetype": "text/x-python",
   "name": "python",
   "nbconvert_exporter": "python",
   "pygments_lexer": "ipython3",
   "version": "3.6.5"
  }
 },
 "nbformat": 4,
 "nbformat_minor": 2
}
