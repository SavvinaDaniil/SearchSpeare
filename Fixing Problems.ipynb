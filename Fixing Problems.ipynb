{
 "cells": [
  {
   "cell_type": "code",
   "execution_count": 2,
   "metadata": {},
   "outputs": [],
   "source": [
    "import json"
   ]
  },
  {
   "cell_type": "code",
   "execution_count": 3,
   "metadata": {},
   "outputs": [],
   "source": [
    "with open('allpoems.json', 'r') as fp:\n",
    "    allpoems = json.load(fp)"
   ]
  },
  {
   "cell_type": "code",
   "execution_count": 4,
   "metadata": {},
   "outputs": [
    {
     "data": {
      "text/plain": [
       "54470"
      ]
     },
     "execution_count": 4,
     "metadata": {},
     "output_type": "execute_result"
    }
   ],
   "source": [
    "len(allpoems)"
   ]
  },
  {
   "cell_type": "code",
   "execution_count": 21,
   "metadata": {},
   "outputs": [
    {
     "name": "stdout",
     "output_type": "stream",
     "text": [
      "IN that proud port, which her so goodly graceth,\r\n",
      "whiles her faire face she reares vp to the skie:\r\n",
      "and to the ground her eie lids low embaseth,\r\n",
      "most goodly temperature ye may descry,\r\n",
      "Myld humblesse mixt with awfull maiesty,\r\n",
      "for looking on the earth whence she was borne:\r\n",
      "her minde remembreth her mortalitie,\r\n",
      "what so is fayrest shall to earth returne.\r\n",
      "But that same lofty countenance seemes to scorne\r\n",
      "base thing, & thinke how she to heauen may clime:\r\n",
      "treading downe earth as lothsome and forlorne,\r\n",
      "that hinders heauenly thoughts with drossy slime.\r\n",
      "Yet lowly still vouchsafe to looke on me,\r\n",
      "such lowlinesse shall make you lofty be.\n"
     ]
    }
   ],
   "source": [
    "print(allpoems[4000]['text'])"
   ]
  },
  {
   "cell_type": "code",
   "execution_count": 20,
   "metadata": {
    "scrolled": true
   },
   "outputs": [
    {
     "data": {
      "text/plain": [
       "{'url': 'https://www.poetryfoundation.org/poems/58744/nobody-knows\\r',\n",
       " 'title': 'Nobody Knows',\n",
       " 'author': 'Marsha De La O',\n",
       " 'text': \"We had to imagine you even then, Ramon, your star lost, a glimpse to die for, all the kids galloping to Westside Park where your gang was supposed to meet in open warfare those bitter skinny boys from Toonerville, well-armed, Lupe said. And when we got there, nothing, no armies, no chucos with long tails and zip guns, just the grass with its stunned look, as though it never really wanted all that light. City grass doesn't want much of anything, it's not out there trembling with desire, minds its own business, leeching slowly upward from busted pipe. And now nobody knows what you really wanted, Ramon, when the needle spun true north, or why that final rush of light, flat stare of lawn as you staggered by, seared your own throat shut. Tonight, I'm getting to the smallest place I know, dusk coming on slow, the moon half full of shade, so still it almost doesn't want to move, whispers a phrase to particles of blue. Same moon you knew with its white mind watching, same moon you walked beneath and were gone.\"}"
      ]
     },
     "execution_count": 20,
     "metadata": {},
     "output_type": "execute_result"
    }
   ],
   "source": [
    "allpoems[40000]"
   ]
  },
  {
   "cell_type": "code",
   "execution_count": 26,
   "metadata": {},
   "outputs": [
    {
     "data": {
      "text/plain": [
       "'trtg'"
      ]
     },
     "execution_count": 26,
     "metadata": {},
     "output_type": "execute_result"
    }
   ],
   "source": [
    "'trtg/545'.split('/')[0]"
   ]
  }
 ],
 "metadata": {
  "kernelspec": {
   "display_name": "Python 3",
   "language": "python",
   "name": "python3"
  },
  "language_info": {
   "codemirror_mode": {
    "name": "ipython",
    "version": 3
   },
   "file_extension": ".py",
   "mimetype": "text/x-python",
   "name": "python",
   "nbconvert_exporter": "python",
   "pygments_lexer": "ipython3",
   "version": "3.6.5"
  }
 },
 "nbformat": 4,
 "nbformat_minor": 2
}
